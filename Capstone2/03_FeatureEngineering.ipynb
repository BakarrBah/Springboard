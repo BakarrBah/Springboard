{
 "cells": [
  {
   "cell_type": "code",
   "execution_count": 1,
   "metadata": {},
   "outputs": [],
   "source": [
    "#Import Essential Libraries\n",
    "import pandas as pd\n",
    "import numpy as np\n",
    "\n",
    "import random"
   ]
  },
  {
   "cell_type": "code",
   "execution_count": 2,
   "metadata": {},
   "outputs": [],
   "source": [
    "#Import the clean patient data and ecg_data\n",
    "df_ECG_data = pd.read_csv(r'ptbxl_database_cleaned.csv', index_col= 'ecg_id')\n",
    "ECG_array = np.load(r'ECG_signal.npy')\n",
    "\n"
   ]
  },
  {
   "cell_type": "code",
   "execution_count": 3,
   "metadata": {},
   "outputs": [
    {
     "data": {
      "text/plain": [
       "(20699, 21)"
      ]
     },
     "execution_count": 3,
     "metadata": {},
     "output_type": "execute_result"
    }
   ],
   "source": [
    "df_ECG_data.shape"
   ]
  },
  {
   "cell_type": "code",
   "execution_count": 4,
   "metadata": {},
   "outputs": [
    {
     "data": {
      "text/plain": [
       "(20699, 1000, 12)"
      ]
     },
     "execution_count": 4,
     "metadata": {},
     "output_type": "execute_result"
    }
   ],
   "source": [
    "ECG_array.shape"
   ]
  },
  {
   "cell_type": "code",
   "execution_count": 5,
   "metadata": {},
   "outputs": [
    {
     "data": {
      "text/html": [
       "<div>\n",
       "<style scoped>\n",
       "    .dataframe tbody tr th:only-of-type {\n",
       "        vertical-align: middle;\n",
       "    }\n",
       "\n",
       "    .dataframe tbody tr th {\n",
       "        vertical-align: top;\n",
       "    }\n",
       "\n",
       "    .dataframe thead th {\n",
       "        text-align: right;\n",
       "    }\n",
       "</style>\n",
       "<table border=\"1\" class=\"dataframe\">\n",
       "  <thead>\n",
       "    <tr style=\"text-align: right;\">\n",
       "      <th></th>\n",
       "      <th>patient_id</th>\n",
       "      <th>age</th>\n",
       "      <th>sex</th>\n",
       "      <th>height</th>\n",
       "      <th>weight</th>\n",
       "      <th>recording_date</th>\n",
       "      <th>scp_codes</th>\n",
       "      <th>heart_axis</th>\n",
       "      <th>validated_by</th>\n",
       "      <th>second_opinion</th>\n",
       "      <th>...</th>\n",
       "      <th>validated_by_human</th>\n",
       "      <th>electrodes_problems</th>\n",
       "      <th>strat_fold</th>\n",
       "      <th>filename_lr</th>\n",
       "      <th>filename_hr</th>\n",
       "      <th>Age_Group</th>\n",
       "      <th>Height_Group</th>\n",
       "      <th>Weight_Group</th>\n",
       "      <th>heart_rhythm</th>\n",
       "      <th>AFIB_diagnosis</th>\n",
       "    </tr>\n",
       "    <tr>\n",
       "      <th>ecg_id</th>\n",
       "      <th></th>\n",
       "      <th></th>\n",
       "      <th></th>\n",
       "      <th></th>\n",
       "      <th></th>\n",
       "      <th></th>\n",
       "      <th></th>\n",
       "      <th></th>\n",
       "      <th></th>\n",
       "      <th></th>\n",
       "      <th></th>\n",
       "      <th></th>\n",
       "      <th></th>\n",
       "      <th></th>\n",
       "      <th></th>\n",
       "      <th></th>\n",
       "      <th></th>\n",
       "      <th></th>\n",
       "      <th></th>\n",
       "      <th></th>\n",
       "      <th></th>\n",
       "    </tr>\n",
       "  </thead>\n",
       "  <tbody>\n",
       "    <tr>\n",
       "      <th>1</th>\n",
       "      <td>15709.0</td>\n",
       "      <td>56.0</td>\n",
       "      <td>1</td>\n",
       "      <td>166.0</td>\n",
       "      <td>63.0</td>\n",
       "      <td>1984-11-09 09:17:34</td>\n",
       "      <td>{'NORM': 100.0, 'LVOLT': 0.0, 'SR': 0.0}</td>\n",
       "      <td>NaN</td>\n",
       "      <td>NaN</td>\n",
       "      <td>False</td>\n",
       "      <td>...</td>\n",
       "      <td>True</td>\n",
       "      <td>no</td>\n",
       "      <td>3</td>\n",
       "      <td>records100/00000/00001_lr</td>\n",
       "      <td>records500/00000/00001_hr</td>\n",
       "      <td>(55, 70]</td>\n",
       "      <td>(90, 166]</td>\n",
       "      <td>(60, 70]</td>\n",
       "      <td>SR</td>\n",
       "      <td>SR</td>\n",
       "    </tr>\n",
       "    <tr>\n",
       "      <th>2</th>\n",
       "      <td>13243.0</td>\n",
       "      <td>19.0</td>\n",
       "      <td>0</td>\n",
       "      <td>166.0</td>\n",
       "      <td>70.0</td>\n",
       "      <td>1984-11-14 12:55:37</td>\n",
       "      <td>{'NORM': 80.0, 'SBRAD': 0.0}</td>\n",
       "      <td>NaN</td>\n",
       "      <td>NaN</td>\n",
       "      <td>False</td>\n",
       "      <td>...</td>\n",
       "      <td>True</td>\n",
       "      <td>no</td>\n",
       "      <td>2</td>\n",
       "      <td>records100/00000/00002_lr</td>\n",
       "      <td>records500/00000/00002_hr</td>\n",
       "      <td>(0, 55]</td>\n",
       "      <td>(90, 166]</td>\n",
       "      <td>(60, 70]</td>\n",
       "      <td>SBRAD</td>\n",
       "      <td>OTHER</td>\n",
       "    </tr>\n",
       "    <tr>\n",
       "      <th>3</th>\n",
       "      <td>20372.0</td>\n",
       "      <td>37.0</td>\n",
       "      <td>1</td>\n",
       "      <td>166.0</td>\n",
       "      <td>69.0</td>\n",
       "      <td>1984-11-15 12:49:10</td>\n",
       "      <td>{'NORM': 100.0, 'SR': 0.0}</td>\n",
       "      <td>NaN</td>\n",
       "      <td>NaN</td>\n",
       "      <td>False</td>\n",
       "      <td>...</td>\n",
       "      <td>True</td>\n",
       "      <td>no</td>\n",
       "      <td>5</td>\n",
       "      <td>records100/00000/00003_lr</td>\n",
       "      <td>records500/00000/00003_hr</td>\n",
       "      <td>(0, 55]</td>\n",
       "      <td>(90, 166]</td>\n",
       "      <td>(60, 70]</td>\n",
       "      <td>SR</td>\n",
       "      <td>SR</td>\n",
       "    </tr>\n",
       "    <tr>\n",
       "      <th>4</th>\n",
       "      <td>17014.0</td>\n",
       "      <td>24.0</td>\n",
       "      <td>0</td>\n",
       "      <td>166.0</td>\n",
       "      <td>82.0</td>\n",
       "      <td>1984-11-15 13:44:57</td>\n",
       "      <td>{'NORM': 100.0, 'SR': 0.0}</td>\n",
       "      <td>NaN</td>\n",
       "      <td>NaN</td>\n",
       "      <td>False</td>\n",
       "      <td>...</td>\n",
       "      <td>True</td>\n",
       "      <td>no</td>\n",
       "      <td>3</td>\n",
       "      <td>records100/00000/00004_lr</td>\n",
       "      <td>records500/00000/00004_hr</td>\n",
       "      <td>(0, 55]</td>\n",
       "      <td>(90, 166]</td>\n",
       "      <td>(80, 210]</td>\n",
       "      <td>SR</td>\n",
       "      <td>SR</td>\n",
       "    </tr>\n",
       "    <tr>\n",
       "      <th>5</th>\n",
       "      <td>17448.0</td>\n",
       "      <td>19.0</td>\n",
       "      <td>1</td>\n",
       "      <td>166.0</td>\n",
       "      <td>70.0</td>\n",
       "      <td>1984-11-17 10:43:15</td>\n",
       "      <td>{'NORM': 100.0, 'SR': 0.0}</td>\n",
       "      <td>NaN</td>\n",
       "      <td>NaN</td>\n",
       "      <td>False</td>\n",
       "      <td>...</td>\n",
       "      <td>True</td>\n",
       "      <td>no</td>\n",
       "      <td>4</td>\n",
       "      <td>records100/00000/00005_lr</td>\n",
       "      <td>records500/00000/00005_hr</td>\n",
       "      <td>(0, 55]</td>\n",
       "      <td>(90, 166]</td>\n",
       "      <td>(60, 70]</td>\n",
       "      <td>SR</td>\n",
       "      <td>SR</td>\n",
       "    </tr>\n",
       "  </tbody>\n",
       "</table>\n",
       "<p>5 rows × 21 columns</p>\n",
       "</div>"
      ],
      "text/plain": [
       "        patient_id   age  sex  height  weight       recording_date  \\\n",
       "ecg_id                                                               \n",
       "1          15709.0  56.0    1   166.0    63.0  1984-11-09 09:17:34   \n",
       "2          13243.0  19.0    0   166.0    70.0  1984-11-14 12:55:37   \n",
       "3          20372.0  37.0    1   166.0    69.0  1984-11-15 12:49:10   \n",
       "4          17014.0  24.0    0   166.0    82.0  1984-11-15 13:44:57   \n",
       "5          17448.0  19.0    1   166.0    70.0  1984-11-17 10:43:15   \n",
       "\n",
       "                                       scp_codes heart_axis  validated_by  \\\n",
       "ecg_id                                                                      \n",
       "1       {'NORM': 100.0, 'LVOLT': 0.0, 'SR': 0.0}        NaN           NaN   \n",
       "2                   {'NORM': 80.0, 'SBRAD': 0.0}        NaN           NaN   \n",
       "3                     {'NORM': 100.0, 'SR': 0.0}        NaN           NaN   \n",
       "4                     {'NORM': 100.0, 'SR': 0.0}        NaN           NaN   \n",
       "5                     {'NORM': 100.0, 'SR': 0.0}        NaN           NaN   \n",
       "\n",
       "        second_opinion  ...  validated_by_human  electrodes_problems  \\\n",
       "ecg_id                  ...                                            \n",
       "1                False  ...                True                   no   \n",
       "2                False  ...                True                   no   \n",
       "3                False  ...                True                   no   \n",
       "4                False  ...                True                   no   \n",
       "5                False  ...                True                   no   \n",
       "\n",
       "       strat_fold                filename_lr                filename_hr  \\\n",
       "ecg_id                                                                    \n",
       "1               3  records100/00000/00001_lr  records500/00000/00001_hr   \n",
       "2               2  records100/00000/00002_lr  records500/00000/00002_hr   \n",
       "3               5  records100/00000/00003_lr  records500/00000/00003_hr   \n",
       "4               3  records100/00000/00004_lr  records500/00000/00004_hr   \n",
       "5               4  records100/00000/00005_lr  records500/00000/00005_hr   \n",
       "\n",
       "       Age_Group Height_Group Weight_Group heart_rhythm AFIB_diagnosis  \n",
       "ecg_id                                                                  \n",
       "1       (55, 70]    (90, 166]     (60, 70]           SR             SR  \n",
       "2        (0, 55]    (90, 166]     (60, 70]        SBRAD          OTHER  \n",
       "3        (0, 55]    (90, 166]     (60, 70]           SR             SR  \n",
       "4        (0, 55]    (90, 166]    (80, 210]           SR             SR  \n",
       "5        (0, 55]    (90, 166]     (60, 70]           SR             SR  \n",
       "\n",
       "[5 rows x 21 columns]"
      ]
     },
     "execution_count": 5,
     "metadata": {},
     "output_type": "execute_result"
    }
   ],
   "source": [
    "df_ECG_data.head()"
   ]
  },
  {
   "cell_type": "code",
   "execution_count": 6,
   "metadata": {},
   "outputs": [
    {
     "data": {
      "text/plain": [
       "SR       16736\n",
       "OTHER     2473\n",
       "AFIB      1490\n",
       "Name: AFIB_diagnosis, dtype: int64"
      ]
     },
     "execution_count": 6,
     "metadata": {},
     "output_type": "execute_result"
    }
   ],
   "source": [
    "df_ECG_data.AFIB_diagnosis.value_counts()"
   ]
  },
  {
   "cell_type": "code",
   "execution_count": 7,
   "metadata": {},
   "outputs": [],
   "source": [
    "df = df_ECG_data[['strat_fold', 'heart_rhythm', 'AFIB_diagnosis']].reset_index()"
   ]
  },
  {
   "cell_type": "code",
   "execution_count": 8,
   "metadata": {},
   "outputs": [
    {
     "data": {
      "text/html": [
       "<div>\n",
       "<style scoped>\n",
       "    .dataframe tbody tr th:only-of-type {\n",
       "        vertical-align: middle;\n",
       "    }\n",
       "\n",
       "    .dataframe tbody tr th {\n",
       "        vertical-align: top;\n",
       "    }\n",
       "\n",
       "    .dataframe thead th {\n",
       "        text-align: right;\n",
       "    }\n",
       "</style>\n",
       "<table border=\"1\" class=\"dataframe\">\n",
       "  <thead>\n",
       "    <tr style=\"text-align: right;\">\n",
       "      <th></th>\n",
       "      <th>ecg_id</th>\n",
       "      <th>strat_fold</th>\n",
       "      <th>heart_rhythm</th>\n",
       "      <th>AFIB_diagnosis</th>\n",
       "    </tr>\n",
       "  </thead>\n",
       "  <tbody>\n",
       "    <tr>\n",
       "      <th>0</th>\n",
       "      <td>1</td>\n",
       "      <td>3</td>\n",
       "      <td>SR</td>\n",
       "      <td>SR</td>\n",
       "    </tr>\n",
       "    <tr>\n",
       "      <th>1</th>\n",
       "      <td>2</td>\n",
       "      <td>2</td>\n",
       "      <td>SBRAD</td>\n",
       "      <td>OTHER</td>\n",
       "    </tr>\n",
       "    <tr>\n",
       "      <th>2</th>\n",
       "      <td>3</td>\n",
       "      <td>5</td>\n",
       "      <td>SR</td>\n",
       "      <td>SR</td>\n",
       "    </tr>\n",
       "    <tr>\n",
       "      <th>3</th>\n",
       "      <td>4</td>\n",
       "      <td>3</td>\n",
       "      <td>SR</td>\n",
       "      <td>SR</td>\n",
       "    </tr>\n",
       "    <tr>\n",
       "      <th>4</th>\n",
       "      <td>5</td>\n",
       "      <td>4</td>\n",
       "      <td>SR</td>\n",
       "      <td>SR</td>\n",
       "    </tr>\n",
       "  </tbody>\n",
       "</table>\n",
       "</div>"
      ],
      "text/plain": [
       "   ecg_id  strat_fold heart_rhythm AFIB_diagnosis\n",
       "0       1           3           SR             SR\n",
       "1       2           2        SBRAD          OTHER\n",
       "2       3           5           SR             SR\n",
       "3       4           3           SR             SR\n",
       "4       5           4           SR             SR"
      ]
     },
     "execution_count": 8,
     "metadata": {},
     "output_type": "execute_result"
    }
   ],
   "source": [
    "df.head()"
   ]
  },
  {
   "cell_type": "code",
   "execution_count": 9,
   "metadata": {},
   "outputs": [],
   "source": [
    "y_test = pd.get_dummies(df[df.strat_fold > 8]['AFIB_diagnosis'])\n",
    "X_test = ECG_array[y_test.index]"
   ]
  },
  {
   "cell_type": "code",
   "execution_count": 10,
   "metadata": {},
   "outputs": [],
   "source": [
    "y_train = pd.get_dummies(df[df.strat_fold <= 8]['AFIB_diagnosis'])\n",
    "X_train = ECG_array[y_train.index]"
   ]
  },
  {
   "cell_type": "code",
   "execution_count": 12,
   "metadata": {},
   "outputs": [],
   "source": [
    "y_test.to_csv('y_test.csv')\n",
    "y_train.to_csv('y_train.csv')\n",
    "\n",
    "np.save('X_test.npy', X_test)\n",
    "np.save('X_train.npy', X_train)"
   ]
  }
 ],
 "metadata": {
  "kernelspec": {
   "display_name": "springboard",
   "language": "python",
   "name": "python3"
  },
  "language_info": {
   "codemirror_mode": {
    "name": "ipython",
    "version": 3
   },
   "file_extension": ".py",
   "mimetype": "text/x-python",
   "name": "python",
   "nbconvert_exporter": "python",
   "pygments_lexer": "ipython3",
   "version": "3.10.4"
  },
  "orig_nbformat": 4,
  "vscode": {
   "interpreter": {
    "hash": "091bacdc166c008f6c19d8f002a3359c8922f9c37879f1ae56e7b7e4da14a871"
   }
  }
 },
 "nbformat": 4,
 "nbformat_minor": 2
}
