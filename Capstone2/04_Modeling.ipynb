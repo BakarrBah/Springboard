{
 "cells": [
  {
   "cell_type": "code",
   "execution_count": 1,
   "metadata": {},
   "outputs": [],
   "source": [
    "import numpy as np\n",
    "import pandas as pd\n",
    "import tensorflow as tf\n",
    "from tensorflow.keras.models import Sequential\n",
    "from tensorflow.keras.layers import Dense, Activation, Conv1D, MaxPooling1D, Flatten"
   ]
  },
  {
   "cell_type": "code",
   "execution_count": 2,
   "metadata": {},
   "outputs": [],
   "source": [
    "X_train = np.load('X_train.npy')\n",
    "y_train = pd.read_csv(r'y_train.csv', index_col= 0)\n",
    "input_shape = X_train.shape[1:]\n",
    "output_shape = y_train.shape[-1]"
   ]
  },
  {
   "cell_type": "code",
   "execution_count": 3,
   "metadata": {},
   "outputs": [
    {
     "data": {
      "text/plain": [
       "3"
      ]
     },
     "execution_count": 3,
     "metadata": {},
     "output_type": "execute_result"
    }
   ],
   "source": [
    "output_shape"
   ]
  },
  {
   "cell_type": "code",
   "execution_count": 4,
   "metadata": {},
   "outputs": [
    {
     "data": {
      "text/plain": [
       "(16563, 1000, 12)"
      ]
     },
     "execution_count": 4,
     "metadata": {},
     "output_type": "execute_result"
    }
   ],
   "source": [
    "X_train.shape"
   ]
  },
  {
   "cell_type": "code",
   "execution_count": 5,
   "metadata": {},
   "outputs": [
    {
     "data": {
      "text/html": [
       "<div>\n",
       "<style scoped>\n",
       "    .dataframe tbody tr th:only-of-type {\n",
       "        vertical-align: middle;\n",
       "    }\n",
       "\n",
       "    .dataframe tbody tr th {\n",
       "        vertical-align: top;\n",
       "    }\n",
       "\n",
       "    .dataframe thead th {\n",
       "        text-align: right;\n",
       "    }\n",
       "</style>\n",
       "<table border=\"1\" class=\"dataframe\">\n",
       "  <thead>\n",
       "    <tr style=\"text-align: right;\">\n",
       "      <th></th>\n",
       "      <th>AFIB</th>\n",
       "      <th>OTHER</th>\n",
       "      <th>SR</th>\n",
       "    </tr>\n",
       "  </thead>\n",
       "  <tbody>\n",
       "    <tr>\n",
       "      <th>0</th>\n",
       "      <td>0</td>\n",
       "      <td>0</td>\n",
       "      <td>1</td>\n",
       "    </tr>\n",
       "    <tr>\n",
       "      <th>1</th>\n",
       "      <td>0</td>\n",
       "      <td>1</td>\n",
       "      <td>0</td>\n",
       "    </tr>\n",
       "    <tr>\n",
       "      <th>2</th>\n",
       "      <td>0</td>\n",
       "      <td>0</td>\n",
       "      <td>1</td>\n",
       "    </tr>\n",
       "    <tr>\n",
       "      <th>3</th>\n",
       "      <td>0</td>\n",
       "      <td>0</td>\n",
       "      <td>1</td>\n",
       "    </tr>\n",
       "    <tr>\n",
       "      <th>4</th>\n",
       "      <td>0</td>\n",
       "      <td>0</td>\n",
       "      <td>1</td>\n",
       "    </tr>\n",
       "  </tbody>\n",
       "</table>\n",
       "</div>"
      ],
      "text/plain": [
       "   AFIB  OTHER  SR\n",
       "0     0      0   1\n",
       "1     0      1   0\n",
       "2     0      0   1\n",
       "3     0      0   1\n",
       "4     0      0   1"
      ]
     },
     "execution_count": 5,
     "metadata": {},
     "output_type": "execute_result"
    }
   ],
   "source": [
    "y_train.head()"
   ]
  },
  {
   "cell_type": "code",
   "execution_count": 6,
   "metadata": {},
   "outputs": [
    {
     "data": {
      "text/plain": [
       "3"
      ]
     },
     "execution_count": 6,
     "metadata": {},
     "output_type": "execute_result"
    }
   ],
   "source": [
    "y_train.shape[-1]"
   ]
  },
  {
   "cell_type": "code",
   "execution_count": 7,
   "metadata": {},
   "outputs": [],
   "source": [
    "model = Sequential()\n",
    "model.add(Conv1D(filters= 32, kernel_size = 3, activation = 'relu', input_shape = input_shape))\n",
    "model.add(MaxPooling1D(3, 3))\n",
    "\n",
    "model.add(Conv1D(filters= 64, kernel_size = 3, activation = 'relu'))\n",
    "model.add(MaxPooling1D(3, 3))\n",
    "\n",
    "model.add(Conv1D(filters= 64, kernel_size = 3, activation = 'relu'))\n",
    "model.add(MaxPooling1D(3, 3))\n",
    "\n",
    "model.add(Conv1D(filters= 128, kernel_size = 3, activation = 'relu'))\n",
    "model.add(Flatten())\n",
    "\n",
    "\n",
    "model.add(Dense(3, activation= 'softmax'))\n"
   ]
  },
  {
   "cell_type": "code",
   "execution_count": 8,
   "metadata": {},
   "outputs": [
    {
     "name": "stdout",
     "output_type": "stream",
     "text": [
      "Model: \"sequential\"\n",
      "_________________________________________________________________\n",
      " Layer (type)                Output Shape              Param #   \n",
      "=================================================================\n",
      " conv1d (Conv1D)             (None, 998, 32)           1184      \n",
      "                                                                 \n",
      " max_pooling1d (MaxPooling1D  (None, 332, 32)          0         \n",
      " )                                                               \n",
      "                                                                 \n",
      " conv1d_1 (Conv1D)           (None, 330, 64)           6208      \n",
      "                                                                 \n",
      " max_pooling1d_1 (MaxPooling  (None, 110, 64)          0         \n",
      " 1D)                                                             \n",
      "                                                                 \n",
      " conv1d_2 (Conv1D)           (None, 108, 64)           12352     \n",
      "                                                                 \n",
      " max_pooling1d_2 (MaxPooling  (None, 36, 64)           0         \n",
      " 1D)                                                             \n",
      "                                                                 \n",
      " conv1d_3 (Conv1D)           (None, 34, 128)           24704     \n",
      "                                                                 \n",
      " flatten (Flatten)           (None, 4352)              0         \n",
      "                                                                 \n",
      " dense (Dense)               (None, 3)                 13059     \n",
      "                                                                 \n",
      "=================================================================\n",
      "Total params: 57,507\n",
      "Trainable params: 57,507\n",
      "Non-trainable params: 0\n",
      "_________________________________________________________________\n",
      "None\n"
     ]
    }
   ],
   "source": [
    "print(model.summary())"
   ]
  },
  {
   "cell_type": "code",
   "execution_count": 9,
   "metadata": {},
   "outputs": [],
   "source": [
    "from sklearn.preprocessing import StandardScaler\n",
    "X_scaler = StandardScaler()\n",
    "model_x= X_scaler.fit(X_train.reshape(-1, X_train.shape[-1]))\n",
    "scaled_X = model_x.transform(X_train.reshape(-1, X_train.shape[-1])).reshape(X_train.shape)\n",
    "\n",
    "y_scaler = StandardScaler()\n",
    "model_y= y_scaler.fit(y_train)\n",
    "scaled_y = model_y.transform(y_train)\n"
   ]
  },
  {
   "cell_type": "code",
   "execution_count": 10,
   "metadata": {},
   "outputs": [],
   "source": [
    "model.compile(loss= 'categorical_crossentropy', optimizer= 'adam', metrics= ['binary_accuracy', 'Precision', 'Recall'])"
   ]
  },
  {
   "cell_type": "code",
   "execution_count": 11,
   "metadata": {},
   "outputs": [
    {
     "name": "stdout",
     "output_type": "stream",
     "text": [
      "Epoch 1/15\n",
      "518/518 [==============================] - 13s 23ms/step - loss: 0.4654 - binary_accuracy: 0.8969 - precision: 0.8627 - recall: 0.8215\n",
      "Epoch 2/15\n",
      "518/518 [==============================] - 18s 34ms/step - loss: 0.3285 - binary_accuracy: 0.9256 - precision: 0.8989 - recall: 0.8754\n",
      "Epoch 3/15\n",
      "518/518 [==============================] - 11s 22ms/step - loss: 0.2927 - binary_accuracy: 0.9371 - precision: 0.9122 - recall: 0.8978\n",
      "Epoch 4/15\n",
      "518/518 [==============================] - 12s 24ms/step - loss: 0.2756 - binary_accuracy: 0.9407 - precision: 0.9162 - recall: 0.9047\n",
      "Epoch 5/15\n",
      "518/518 [==============================] - 13s 25ms/step - loss: 0.2532 - binary_accuracy: 0.9445 - precision: 0.9203 - recall: 0.9125\n",
      "Epoch 6/15\n",
      "518/518 [==============================] - 12s 23ms/step - loss: 0.2413 - binary_accuracy: 0.9478 - precision: 0.9248 - recall: 0.9181\n",
      "Epoch 7/15\n",
      "518/518 [==============================] - 12s 24ms/step - loss: 0.2237 - binary_accuracy: 0.9498 - precision: 0.9278 - recall: 0.9211\n",
      "Epoch 8/15\n",
      "518/518 [==============================] - 13s 25ms/step - loss: 0.2044 - binary_accuracy: 0.9537 - precision: 0.9327 - recall: 0.9282\n",
      "Epoch 9/15\n",
      "518/518 [==============================] - 13s 24ms/step - loss: 0.1857 - binary_accuracy: 0.9575 - precision: 0.9382 - recall: 0.9339\n",
      "Epoch 10/15\n",
      "518/518 [==============================] - 12s 24ms/step - loss: 0.1635 - binary_accuracy: 0.9624 - precision: 0.9451 - recall: 0.9420\n",
      "Epoch 11/15\n",
      "518/518 [==============================] - 13s 25ms/step - loss: 0.1412 - binary_accuracy: 0.9671 - precision: 0.9520 - recall: 0.9493\n",
      "Epoch 12/15\n",
      "518/518 [==============================] - 13s 25ms/step - loss: 0.1197 - binary_accuracy: 0.9711 - precision: 0.9576 - recall: 0.9556\n",
      "Epoch 13/15\n",
      "518/518 [==============================] - 13s 24ms/step - loss: 0.0948 - binary_accuracy: 0.9776 - precision: 0.9668 - recall: 0.9659\n",
      "Epoch 14/15\n",
      "518/518 [==============================] - 13s 25ms/step - loss: 0.0808 - binary_accuracy: 0.9816 - precision: 0.9729 - recall: 0.9719\n",
      "Epoch 15/15\n",
      "518/518 [==============================] - 14s 27ms/step - loss: 0.0725 - binary_accuracy: 0.9829 - precision: 0.9746 - recall: 0.9740\n"
     ]
    },
    {
     "data": {
      "text/plain": [
       "<keras.callbacks.History at 0x1718765da80>"
      ]
     },
     "execution_count": 11,
     "metadata": {},
     "output_type": "execute_result"
    }
   ],
   "source": [
    "model.fit(X_train, y_train, epochs= 15)"
   ]
  },
  {
   "cell_type": "code",
   "execution_count": 12,
   "metadata": {},
   "outputs": [],
   "source": [
    "X_test = np.load('X_test.npy')\n",
    "y_test = pd.read_csv(r'y_test.csv', index_col= 0)\n",
    "y_test_arr = y_test.to_numpy()\n",
    "\n",
    "\n"
   ]
  },
  {
   "cell_type": "code",
   "execution_count": 13,
   "metadata": {},
   "outputs": [],
   "source": [
    "X_scaler = StandardScaler()\n",
    "model_x= X_scaler.fit(X_train.reshape(-1, X_train.shape[-1]))\n",
    "scaled_X = model_x.transform(X_train.reshape(-1, X_train.shape[-1])).reshape(X_train.shape)"
   ]
  },
  {
   "cell_type": "code",
   "execution_count": 14,
   "metadata": {},
   "outputs": [],
   "source": [
    "Test = X_test"
   ]
  },
  {
   "cell_type": "code",
   "execution_count": 15,
   "metadata": {},
   "outputs": [
    {
     "name": "stdout",
     "output_type": "stream",
     "text": [
      "130/130 [==============================] - 3s 18ms/step\n"
     ]
    }
   ],
   "source": [
    "prediction = model.predict(Test)"
   ]
  },
  {
   "cell_type": "code",
   "execution_count": 16,
   "metadata": {},
   "outputs": [],
   "source": [
    "y_pred= prediction.argmax(axis= 1)"
   ]
  },
  {
   "cell_type": "code",
   "execution_count": 17,
   "metadata": {},
   "outputs": [],
   "source": [
    "y_tru= y_test_arr.argmax(axis= 1)"
   ]
  },
  {
   "cell_type": "code",
   "execution_count": 18,
   "metadata": {},
   "outputs": [],
   "source": [
    "from sklearn.metrics import confusion_matrix, ConfusionMatrixDisplay\n"
   ]
  },
  {
   "cell_type": "code",
   "execution_count": 19,
   "metadata": {},
   "outputs": [
    {
     "data": {
      "text/plain": [
       "<sklearn.metrics._plot.confusion_matrix.ConfusionMatrixDisplay at 0x170f87852d0>"
      ]
     },
     "execution_count": 19,
     "metadata": {},
     "output_type": "execute_result"
    },
    {
     "data": {
      "image/png": "[encoded data removed]",
      "text/plain": [
       "<Figure size 432x288 with 2 Axes>"
      ]
     },
     "metadata": {
      "needs_background": "light"
     },
     "output_type": "display_data"
    }
   ],
   "source": [
    "cm= confusion_matrix(y_true= y_tru, y_pred= y_pred)\n",
    "disp= ConfusionMatrixDisplay (cm)\n",
    "disp.plot()"
   ]
  },
  {
   "cell_type": "code",
   "execution_count": null,
   "metadata": {},
   "outputs": [],
   "source": []
  }
 ],
 "metadata": {
  "kernelspec": {
   "display_name": "springboard",
   "language": "python",
   "name": "python3"
  },
  "language_info": {
   "codemirror_mode": {
    "name": "ipython",
    "version": 3
   },
   "file_extension": ".py",
   "mimetype": "text/x-python",
   "name": "python",
   "nbconvert_exporter": "python",
   "pygments_lexer": "ipython3",
   "version": "3.10.4"
  },
  "orig_nbformat": 4,
  "vscode": {
   "interpreter": {
    "hash": "091bacdc166c008f6c19d8f002a3359c8922f9c37879f1ae56e7b7e4da14a871"
   }
  }
 },
 "nbformat": 4,
 "nbformat_minor": 2
}
